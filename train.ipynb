{
 "cells": [
  {
   "cell_type": "code",
   "execution_count": 28,
   "metadata": {},
   "outputs": [],
   "source": [
    "import threading\n",
    "import cv2\n",
    "import pandas as pd\n",
    "import numpy as np\n",
    "from sklearn.model_selection import train_test_split\n",
    "\n",
    "from model import mobilnet"
   ]
  },
  {
   "cell_type": "code",
   "execution_count": 17,
   "metadata": {},
   "outputs": [],
   "source": [
    "class ThreadSafeIterator:\n",
    "    def __init__(self, it):\n",
    "        self.it = it\n",
    "        self.lock = threading.Lock()\n",
    "\n",
    "    def __iter__(self):\n",
    "        return self\n",
    "\n",
    "    def __next__(self):\n",
    "        with self.lock:\n",
    "            return self.it.__next__()"
   ]
  },
  {
   "cell_type": "code",
   "execution_count": 18,
   "metadata": {},
   "outputs": [],
   "source": [
    "def threadsafe_generator(f):\n",
    "    \"\"\"\n",
    "    A decorator that takes a generator function and makes it thread-safe.\n",
    "    \"\"\"\n",
    "    def g(*args, **kwargs):\n",
    "        return ThreadSafeIterator(f(*args, **kwargs))\n",
    "\n",
    "    return g"
   ]
  },
  {
   "cell_type": "code",
   "execution_count": 21,
   "metadata": {},
   "outputs": [],
   "source": [
    "@threadsafe_generator\n",
    "def train_generator(df):\n",
    "    while True:\n",
    "        shuffle_indices = np.arange(len(df))\n",
    "        shuffle_indices = np.random.permutation(shuffle_indices)\n",
    "        \n",
    "        for start in range(0, len(df), BATCH_SIZE):\n",
    "            end = min(start + BATCH_SIZE, len(df))\n",
    "            df_batch = df.iloc[shuffle_indices[start:end]]\n",
    "            \n",
    "            x_batch = []\n",
    "            y_xbatch = df_batch['XCam']\n",
    "            y_ybatch = df_batch['YCam']\n",
    "            \n",
    "            for _fn in df_batch['file_names']:\n",
    "                img = cv2.imread('{}/{}'.format(dset_path, _fn))\n",
    "                img = cv2.resize(img, (WIDTH, HEIGHT), interpolation=cv2.INTER_AREA)\n",
    "                \n",
    "#               # === You can add data augmentations here. === #\n",
    "#                 if np.random.random() < 0.5:\n",
    "#                     img, mask = img[:, ::-1, :], mask[..., ::-1, :]  # random horizontal flip\n",
    "                \n",
    "                x_batch.append(img)\n",
    "            \n",
    "            yield x_batch, [y_xbatch, y_ybatch]"
   ]
  },
  {
   "cell_type": "code",
   "execution_count": null,
   "metadata": {},
   "outputs": [],
   "source": [
    "WIDTH = 224\n",
    "HEIGHT = 224\n",
    "BATCH_SIZE = 32\n",
    "dset_path = '../gazecapture'\n",
    "\n",
    "e = 10\n",
    "# testdf = pd.read_csv('test-df.csv')\n",
    "traindf = pd.read_csv('train-df.csv')\n",
    "train, val = train_test_split(traindf, test_size=0.1)\n",
    "\n",
    "model = mobilnet()\n",
    "\n",
    "model.fit_generator(generator=train_generator(train),\n",
    "                        steps_per_epoch=np.ceil(float(len(train)) / float(BATCH_SIZE)),\n",
    "                        epochs=e,\n",
    "                        verbose=1,\n",
    "#                         callbacks=callbacks,\n",
    "                        validation_data=train_generator(val),\n",
    "                        validation_steps=np.ceil(float(len(val)) / float(BATCH_SIZE)))\n"
   ]
  },
  {
   "cell_type": "code",
   "execution_count": null,
   "metadata": {},
   "outputs": [],
   "source": []
  }
 ],
 "metadata": {
  "kernelspec": {
   "display_name": "Python 3",
   "language": "python",
   "name": "python3"
  },
  "language_info": {
   "codemirror_mode": {
    "name": "ipython",
    "version": 3
   },
   "file_extension": ".py",
   "mimetype": "text/x-python",
   "name": "python",
   "nbconvert_exporter": "python",
   "pygments_lexer": "ipython3",
   "version": "3.6.5"
  }
 },
 "nbformat": 4,
 "nbformat_minor": 2
}
