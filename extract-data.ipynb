{
 "cells": [
  {
   "cell_type": "code",
   "execution_count": 4,
   "metadata": {},
   "outputs": [],
   "source": [
    "from sklearn.model_selection import train_test_split\n",
    "from pathlib import Path\n",
    "import matplotlib.image as img\n",
    "import json\n",
    "import numpy as np\n",
    "from tqdm import tqdm\n",
    "import h5py\n",
    "\n",
    "from multiprocessing import Pool\n",
    "import time\n",
    "from concurrent.futures import ThreadPoolExecutor\n",
    "import functools\n",
    "import pandas as pd"
   ]
  },
  {
   "cell_type": "code",
   "execution_count": 5,
   "metadata": {
    "scrolled": true
   },
   "outputs": [],
   "source": [
    "# from tensorflow.python.client import device_lib\n",
    "# device_lib.list_local_devices()"
   ]
  },
  {
   "cell_type": "code",
   "execution_count": 7,
   "metadata": {},
   "outputs": [],
   "source": [
    "# Helper Functions from EDA\n",
    "def ejson(p, fn): # extract json\n",
    "    with open((p/fn).as_posix()) as f: return json.load(f) \n",
    "## Simple Json Reading Functions\n",
    "def info_data(p): return ejson(p, 'info.json')\n",
    "def dot_data(p): return ejson(p, 'dotInfo.json')\n",
    "def frame_data(p): return ejson(p, 'frames.json')    \n",
    "def screen_data(p): return ejson(p, 'screen.json')\n",
    "def get_frame(p, img_fn): return img.imread(p/'..'/'..'/'gazecapture-224x224'/p.name/'frames'/img_fn)\n",
    "## Larger Helper Functions\n",
    "def coordinate_ydata(p): \n",
    "    data = dot_data(p)\n",
    "    return data['YCam'] # we want relative to camera coords\n",
    "def coordinate_xdata(p): \n",
    "    data = dot_data(p)\n",
    "    return data['XCam'] # we want relative to camera coords"
   ]
  },
  {
   "cell_type": "code",
   "execution_count": 13,
   "metadata": {},
   "outputs": [],
   "source": [
    "dset_path = Path('/media/brennan/Data/ml/gazecapture/')"
   ]
  },
  {
   "cell_type": "markdown",
   "metadata": {},
   "source": [
    "# Export to hdf5\n",
    "Not Used - See below for better soln."
   ]
  },
  {
   "cell_type": "code",
   "execution_count": 9,
   "metadata": {},
   "outputs": [],
   "source": [
    "# Extracting and storing X values\n",
    "def extract_photo(f, case): return get_frame(case, f)\n",
    "\n",
    "def extract(case):\n",
    "    F = frame_data(case) # list of file names correlated to camera images \n",
    "    with Pool(6) as p:  # multi core usale\n",
    "        x = p.map(functools.partial(extract_photo, case=case), F)\n",
    "    return x\n",
    "\n",
    "def extract_to_hdf5(cname, bs, extract_fcn): # bs dsets per hp5y file\n",
    "    f = h5py.File('{}-0.hdf5'.format(cname), 'w') \n",
    "    for i, case in enumerate(list(dset_path.iterdir())):\n",
    "        cn = case.name\n",
    "        edata = extract_fcn(case)\n",
    "        \n",
    "        dset = f.create_dataset('dset'+cn, (len(edata), 224, 224, 3))\n",
    "        dset[...] = edata\n",
    "\n",
    "        if i % bs == 0 and i!= 0:\n",
    "            f.close()\n",
    "            f = h5py.File('{}-{}.hdf5'.format(cname, i//bs), 'w')"
   ]
  },
  {
   "cell_type": "code",
   "execution_count": 2,
   "metadata": {},
   "outputs": [],
   "source": [
    "extract_to_hdf5('X', 500, extract)"
   ]
  },
  {
   "cell_type": "code",
   "execution_count": null,
   "metadata": {},
   "outputs": [],
   "source": [
    "extract_to_hdf5('Y_Xpoint', 2000, coordinate_xdata)\n",
    "extract_to_hdf5('Y_YPoint', 2000, coordinate_ydata)"
   ]
  },
  {
   "cell_type": "markdown",
   "metadata": {},
   "source": [
    "# Extract File Names For Keras Generator"
   ]
  },
  {
   "cell_type": "code",
   "execution_count": 15,
   "metadata": {},
   "outputs": [
    {
     "name": "stderr",
     "output_type": "stream",
     "text": [
      "100%|██████████| 1474/1474 [00:04<00:00, 317.96it/s]\n"
     ]
    }
   ],
   "source": [
    "# split into train / test sets\n",
    "# then split the train set into train / val sets\n",
    "cases = []\n",
    "fnames = []\n",
    "for case in tqdm(list(dset_path.iterdir())):\n",
    "    F = frame_data(case)\n",
    "    for f in F:\n",
    "        cases.append(case.name)\n",
    "        fnames.append(f)"
   ]
  },
  {
   "cell_type": "code",
   "execution_count": 16,
   "metadata": {},
   "outputs": [
    {
     "data": {
      "text/html": [
       "<div>\n",
       "<style scoped>\n",
       "    .dataframe tbody tr th:only-of-type {\n",
       "        vertical-align: middle;\n",
       "    }\n",
       "\n",
       "    .dataframe tbody tr th {\n",
       "        vertical-align: top;\n",
       "    }\n",
       "\n",
       "    .dataframe thead th {\n",
       "        text-align: right;\n",
       "    }\n",
       "</style>\n",
       "<table border=\"1\" class=\"dataframe\">\n",
       "  <thead>\n",
       "    <tr style=\"text-align: right;\">\n",
       "      <th></th>\n",
       "      <th>case_name</th>\n",
       "      <th>file_names</th>\n",
       "    </tr>\n",
       "  </thead>\n",
       "  <tbody>\n",
       "    <tr>\n",
       "      <th>0</th>\n",
       "      <td>00002</td>\n",
       "      <td>00000.jpg</td>\n",
       "    </tr>\n",
       "    <tr>\n",
       "      <th>1</th>\n",
       "      <td>00002</td>\n",
       "      <td>00001.jpg</td>\n",
       "    </tr>\n",
       "    <tr>\n",
       "      <th>2</th>\n",
       "      <td>00002</td>\n",
       "      <td>00002.jpg</td>\n",
       "    </tr>\n",
       "    <tr>\n",
       "      <th>3</th>\n",
       "      <td>00002</td>\n",
       "      <td>00003.jpg</td>\n",
       "    </tr>\n",
       "    <tr>\n",
       "      <th>4</th>\n",
       "      <td>00002</td>\n",
       "      <td>00004.jpg</td>\n",
       "    </tr>\n",
       "  </tbody>\n",
       "</table>\n",
       "</div>"
      ],
      "text/plain": [
       "  case_name file_names\n",
       "0     00002  00000.jpg\n",
       "1     00002  00001.jpg\n",
       "2     00002  00002.jpg\n",
       "3     00002  00003.jpg\n",
       "4     00002  00004.jpg"
      ]
     },
     "execution_count": 16,
     "metadata": {},
     "output_type": "execute_result"
    }
   ],
   "source": [
    "# create dataframe from data\n",
    "df = pd.DataFrame(data={'case_name': cases, 'file_names': fnames})\n",
    "df.head()"
   ]
  },
  {
   "cell_type": "code",
   "execution_count": 17,
   "metadata": {},
   "outputs": [],
   "source": [
    "test_size = 0.1\n",
    "train, test = train_test_split(df, test_size=test_size)"
   ]
  },
  {
   "cell_type": "code",
   "execution_count": 18,
   "metadata": {},
   "outputs": [
    {
     "data": {
      "text/plain": [
       "((2200953, 2), (244551, 2))"
      ]
     },
     "execution_count": 18,
     "metadata": {},
     "output_type": "execute_result"
    }
   ],
   "source": [
    "train.shape, test.shape"
   ]
  },
  {
   "cell_type": "code",
   "execution_count": null,
   "metadata": {},
   "outputs": [],
   "source": [
    "f = h5py.File('X-0.hdf5', 'r')\n",
    "for k in list(f.keys()):\n",
    "    print(f[k].shape)"
   ]
  },
  {
   "cell_type": "code",
   "execution_count": 22,
   "metadata": {},
   "outputs": [],
   "source": [
    "train.to_csv('train-df.csv')"
   ]
  },
  {
   "cell_type": "code",
   "execution_count": 23,
   "metadata": {},
   "outputs": [],
   "source": [
    "test.to_csv('test-df.csv')"
   ]
  }
 ],
 "metadata": {
  "kernelspec": {
   "display_name": "Python 3",
   "language": "python",
   "name": "python3"
  },
  "language_info": {
   "codemirror_mode": {
    "name": "ipython",
    "version": 3
   },
   "file_extension": ".py",
   "mimetype": "text/x-python",
   "name": "python",
   "nbconvert_exporter": "python",
   "pygments_lexer": "ipython3",
   "version": "3.6.5"
  }
 },
 "nbformat": 4,
 "nbformat_minor": 2
}
