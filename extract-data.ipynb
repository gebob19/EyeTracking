{
 "cells": [
  {
   "cell_type": "code",
   "execution_count": 1,
   "metadata": {},
   "outputs": [],
   "source": [
    "from sklearn.model_selection import train_test_split\n",
    "from pathlib import Path\n",
    "import matplotlib.image as img\n",
    "import json\n",
    "import numpy as np\n",
    "from tqdm import tqdm\n",
    "import h5py\n",
    "\n",
    "from multiprocessing import Pool\n",
    "import time\n",
    "from concurrent.futures import ThreadPoolExecutor\n",
    "import functools\n",
    "import pandas as pd"
   ]
  },
  {
   "cell_type": "code",
   "execution_count": 2,
   "metadata": {
    "scrolled": true
   },
   "outputs": [],
   "source": [
    "# from tensorflow.python.client import device_lib\n",
    "# device_lib.list_local_devices()"
   ]
  },
  {
   "cell_type": "code",
   "execution_count": 1,
   "metadata": {},
   "outputs": [
    {
     "data": {
      "text/plain": [
       "100"
      ]
     },
     "execution_count": 1,
     "metadata": {},
     "output_type": "execute_result"
    }
   ],
   "source": [
    "(100,200)[0]"
   ]
  },
  {
   "cell_type": "code",
   "execution_count": 3,
   "metadata": {},
   "outputs": [],
   "source": [
    "# Helper Functions from EDA\n",
    "def ejson(p, fn): # extract json\n",
    "    with open((p/fn).as_posix()) as f: return json.load(f) \n",
    "## Simple Json Reading Functions\n",
    "def info_data(p): return ejson(p, 'info.json')\n",
    "def dot_data(p): return ejson(p, 'dotInfo.json')\n",
    "def frame_data(p): return ejson(p, 'frames.json')    \n",
    "def screen_data(p): return ejson(p, 'screen.json')\n",
    "def get_frame(p, img_fn): return img.imread(p/'..'/'..'/'gazecapture-224x224'/p.name/'frames'/img_fn)\n",
    "## Larger Helper Functions\n",
    "def coordinate_data(p): \n",
    "    data = dot_data(p)\n",
    "    return data['XCam'], data['YCam'] # we want relative to camera coords\n",
    "def orientation_data(p):\n",
    "    sdata = screen_data(p)\n",
    "    return sdata['Orientation']"
   ]
  },
  {
   "cell_type": "code",
   "execution_count": 4,
   "metadata": {},
   "outputs": [],
   "source": [
    "# dset_path = Path('/media/brennan/Data/ml/gazecapture/')\n",
    "dset_path = Path('../gazecapture/')"
   ]
  },
  {
   "cell_type": "markdown",
   "metadata": {},
   "source": [
    "# Export to hdf5\n",
    "Not Used - See below for better soln."
   ]
  },
  {
   "cell_type": "code",
   "execution_count": 9,
   "metadata": {},
   "outputs": [],
   "source": [
    "# Extracting and storing X values\n",
    "def extract_photo(f, case): return get_frame(case, f)\n",
    "\n",
    "def extract(case):\n",
    "    F = frame_data(case) # list of file names correlated to camera images \n",
    "    with Pool(6) as p:  # multi core usale\n",
    "        x = p.map(functools.partial(extract_photo, case=case), F)\n",
    "    return x\n",
    "\n",
    "def extract_to_hdf5(cname, bs, extract_fcn): # bs dsets per hp5y file\n",
    "    f = h5py.File('{}-0.hdf5'.format(cname), 'w') \n",
    "    for i, case in enumerate(list(dset_path.iterdir())):\n",
    "        cn = case.name\n",
    "        edata = extract_fcn(case)\n",
    "        \n",
    "        dset = f.create_dataset('dset'+cn, (len(edata), 224, 224, 3))\n",
    "        dset[...] = edata\n",
    "\n",
    "        if i % bs == 0 and i!= 0:\n",
    "            f.close()\n",
    "            f = h5py.File('{}-{}.hdf5'.format(cname, i//bs), 'w')"
   ]
  },
  {
   "cell_type": "code",
   "execution_count": 2,
   "metadata": {},
   "outputs": [],
   "source": [
    "extract_to_hdf5('X', 500, extract)"
   ]
  },
  {
   "cell_type": "markdown",
   "metadata": {},
   "source": [
    "# Extract File Names For Keras Generator"
   ]
  },
  {
   "cell_type": "code",
   "execution_count": 14,
   "metadata": {},
   "outputs": [],
   "source": [
    "def extract_data(cases, accepted_o=[1, 2, 3, 4]):\n",
    "    fnames = []\n",
    "    XCam = []\n",
    "    YCam = []\n",
    "    \n",
    "    i = 0\n",
    "    for case in cases:\n",
    "        F = frame_data(case)\n",
    "        O = orientation_data(case)\n",
    "        XCAM, YCAM = coordinate_data(case)\n",
    "\n",
    "        for f, o, xcam, ycam in zip(F, O, XCAM, YCAM):\n",
    "            if o in accepted_o:\n",
    "                fnames.append('{}/frames/{}'.format(case.name, f))\n",
    "                XCam.append(xcam)\n",
    "                YCam.append(ycam)\n",
    "            \n",
    "    return fnames, XCam, YCam"
   ]
  },
  {
   "cell_type": "code",
   "execution_count": 22,
   "metadata": {},
   "outputs": [],
   "source": [
    "test_size = 0.1"
   ]
  },
  {
   "cell_type": "code",
   "execution_count": 23,
   "metadata": {},
   "outputs": [],
   "source": [
    "# Extract all case names first to split => faces it hasnt seen before\n",
    "train_cases, test_cases = train_test_split(list(dset_path.iterdir()), test_size=test_size)"
   ]
  },
  {
   "cell_type": "code",
   "execution_count": 24,
   "metadata": {},
   "outputs": [
    {
     "data": {
      "text/plain": [
       "(1326, 148)"
      ]
     },
     "execution_count": 24,
     "metadata": {},
     "output_type": "execute_result"
    }
   ],
   "source": [
    "len(train_cases), len(test_cases)"
   ]
  },
  {
   "cell_type": "code",
   "execution_count": 18,
   "metadata": {},
   "outputs": [],
   "source": [
    "# ALL PHOTOS split into train / test sets\n",
    "fnames_test, XCam_test, YCam_test = extract_data(test_cases)\n",
    "fnames_train, XCam_train, YCam_train = extract_data(train_cases)"
   ]
  },
  {
   "cell_type": "code",
   "execution_count": 10,
   "metadata": {},
   "outputs": [],
   "source": [
    "# create dataframe from data\n",
    "# HERE\n",
    "train_df = pd.DataFrame(data={'file_names': fnames_train, 'XCam': XCam_train,\n",
    "                       'YCam': YCam_train})\n",
    "test_df = pd.DataFrame(data={'file_names': fnames_test, 'XCam': XCam_test,\n",
    "                       'YCam': YCam_test})"
   ]
  },
  {
   "cell_type": "code",
   "execution_count": 12,
   "metadata": {},
   "outputs": [],
   "source": [
    "train_df.to_csv('train-df.csv')\n",
    "test_df.to_csv('test-df.csv')"
   ]
  },
  {
   "cell_type": "code",
   "execution_count": 25,
   "metadata": {},
   "outputs": [],
   "source": [
    "# ONLY PORTRAIT photos in tests / train\n",
    "fnames_test, XCam_test, YCam_test = extract_data(test_cases, accepted_o=[1])\n",
    "fnames_train, XCam_train, YCam_train = extract_data(train_cases, accepted_o=[1])\n",
    "\n",
    "train_df = pd.DataFrame(data={'file_names': fnames_train, 'XCam': XCam_train,\n",
    "                       'YCam': YCam_train})\n",
    "test_df = pd.DataFrame(data={'file_names': fnames_test, 'XCam': XCam_test,\n",
    "                       'YCam': YCam_test})\n",
    "\n",
    "train_df.to_csv('portrait-train-df.csv')\n",
    "test_df.to_csv('portrait-test-df.csv')"
   ]
  },
  {
   "cell_type": "code",
   "execution_count": 26,
   "metadata": {},
   "outputs": [
    {
     "data": {
      "text/plain": [
       "(0.09589250062238537, 0.9041074993776146)"
      ]
     },
     "execution_count": 26,
     "metadata": {},
     "output_type": "execute_result"
    }
   ],
   "source": [
    "len(test_df) / (len(test_df) + len(train_df)), len(train_df) / (len(test_df) + len(train_df))"
   ]
  },
  {
   "cell_type": "code",
   "execution_count": 27,
   "metadata": {},
   "outputs": [
    {
     "data": {
      "text/plain": [
       "(78577, 740851)"
      ]
     },
     "execution_count": 27,
     "metadata": {},
     "output_type": "execute_result"
    }
   ],
   "source": [
    "len(test_df), len(train_df)"
   ]
  },
  {
   "cell_type": "code",
   "execution_count": 1,
   "metadata": {},
   "outputs": [
    {
     "ename": "NameError",
     "evalue": "name 'train_df' is not defined",
     "output_type": "error",
     "traceback": [
      "\u001b[0;31m---------------------------------------------------------------------------\u001b[0m",
      "\u001b[0;31mNameError\u001b[0m                                 Traceback (most recent call last)",
      "\u001b[0;32m<ipython-input-1-3193e0c54058>\u001b[0m in \u001b[0;36m<module>\u001b[0;34m()\u001b[0m\n\u001b[0;32m----> 1\u001b[0;31m \u001b[0mtrain_df\u001b[0m\u001b[0;34m.\u001b[0m\u001b[0msample\u001b[0m\u001b[0;34m(\u001b[0m\u001b[0mfac\u001b[0m\u001b[0;34m=\u001b[0m\u001b[0;36m0.2\u001b[0m\u001b[0;34m)\u001b[0m\u001b[0;34m.\u001b[0m\u001b[0mto_csv\u001b[0m\u001b[0;34m(\u001b[0m\u001b[0;34m'traindf_sample.csv'\u001b[0m\u001b[0;34m)\u001b[0m\u001b[0;34m\u001b[0m\u001b[0;34m\u001b[0m\u001b[0m\n\u001b[0m",
      "\u001b[0;31mNameError\u001b[0m: name 'train_df' is not defined"
     ]
    }
   ],
   "source": [
    "train_df_sample = train_df.sample(fac=0.2)\n",
    "strain, sval = train_test_split(train_df_sample, test_size=0.1)\n",
    "strain.to_csv('traindf_sample.csv'), sval.to_csv('valdf_sample.csv')"
   ]
  },
  {
   "cell_type": "code",
   "execution_count": null,
   "metadata": {},
   "outputs": [],
   "source": []
  }
 ],
 "metadata": {
  "kernelspec": {
   "display_name": "Python 3",
   "language": "python",
   "name": "python3"
  },
  "language_info": {
   "codemirror_mode": {
    "name": "ipython",
    "version": 3
   },
   "file_extension": ".py",
   "mimetype": "text/x-python",
   "name": "python",
   "nbconvert_exporter": "python",
   "pygments_lexer": "ipython3",
   "version": "3.6.7"
  }
 },
 "nbformat": 4,
 "nbformat_minor": 2
}
