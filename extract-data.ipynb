{
 "cells": [
  {
   "cell_type": "code",
   "execution_count": 24,
   "metadata": {},
   "outputs": [],
   "source": [
    "import tensorflow as tf\n",
    "from keras.applications.mobilenet_v2 import MobileNetV2\n",
    "\n",
    "from sklearn.model_selection import train_test_split\n",
    "from pathlib import Path\n",
    "import matplotlib.image as img\n",
    "import json\n",
    "import numpy as np"
   ]
  },
  {
   "cell_type": "code",
   "execution_count": 4,
   "metadata": {
    "scrolled": true
   },
   "outputs": [],
   "source": [
    "# from tensorflow.python.client import device_lib\n",
    "# device_lib.list_local_devices()"
   ]
  },
  {
   "cell_type": "code",
   "execution_count": 5,
   "metadata": {},
   "outputs": [],
   "source": [
    "# Importing Data\n",
    "# Notes:\n",
    "\n",
    "# Orientation\n",
    "# 1: portrait\n",
    "# 2: portrait, upside down (iPad only)\n",
    "# 3: landscape, with home button on the right\n",
    "# 4: landscape, with home button on the left"
   ]
  },
  {
   "cell_type": "code",
   "execution_count": 9,
   "metadata": {},
   "outputs": [],
   "source": [
    "# Helper Functions from EDA\n",
    "def ejson(p, fn): # extract json\n",
    "    with open((p/fn).as_posix()) as f: return json.load(f) \n",
    "## Simple Json Reading Functions\n",
    "def info_data(p): return ejson(p, 'info.json')\n",
    "def dot_data(p): return ejson(p, 'dotInfo.json')\n",
    "def frame_data(p): return ejson(p, 'frames.json')    \n",
    "def screen_data(p): return ejson(p, 'screen.json')\n",
    "def get_frame(p, img_fn): return img.imread(p/'frames'/img_fn)\n",
    "## Larger Helper Functions\n",
    "def coordinate_data(p): \n",
    "    data = dot_data(p)\n",
    "    return data['XCam'], data['YCam'] # we want relative to camera coords"
   ]
  },
  {
   "cell_type": "code",
   "execution_count": 4,
   "metadata": {},
   "outputs": [],
   "source": [
    "# dset_path = Path('ml/gazecapture/')\n",
    "dset_path = Path('../gazecapture/')"
   ]
  },
  {
   "cell_type": "code",
   "execution_count": 29,
   "metadata": {},
   "outputs": [],
   "source": [
    "X = []\n",
    "\n",
    "Y_Xpoint, Y_Ypoint = [], []\n",
    "\n",
    "for case in dset_path.iterdir():\n",
    "    XCam, YCam = coordinate_data(case) # list (x, y) coordinates rel to camera \n",
    "    F = frame_data(case) # list of file names correlated to camera images \n",
    "#     O = screen_data(case)['Orientation']\n",
    "    dset_class = info_data(case)['Dataset'] # used for splitting into test / train / val\n",
    "    \n",
    "    for i in range(len(F)): # iterate each x, y value\n",
    "        x = get_frame(case, F[i]) # get the photo as matrix\n",
    "        xpoint, ypoint = XCam[i], YCam[i] # coordinate to predict \n",
    "        \n",
    "        X.append(x)\n",
    "        Y_Xpoint.append(xpoint)\n",
    "        Y_Ypoint.append(ypoint)\n",
    "#         o = O[i] \n",
    "    break\n",
    "\n",
    "X = np.asarray(X)\n",
    "Y_Xpoint, Y_Ypoint = np.asarray(Y_Xpoint), np.asarray(Y_Ypoint)"
   ]
  },
  {
   "cell_type": "code",
   "execution_count": 30,
   "metadata": {},
   "outputs": [],
   "source": [
    "# training and validation split\n",
    "x_train, x_val, y_xpoint_train, y_xpoint_val, y_ypoint_train, y_ypoint_val \\\n",
    "    = train_test_split(X, Y_Xpoint, Y_Ypoint, test_size=0.2, random_state=1)"
   ]
  },
  {
   "cell_type": "code",
   "execution_count": 33,
   "metadata": {},
   "outputs": [
    {
     "data": {
      "text/plain": [
       "((81, 640, 480, 3), (81,), (81,))"
      ]
     },
     "execution_count": 33,
     "metadata": {},
     "output_type": "execute_result"
    }
   ],
   "source": [
    "x_train.shape, y_xpoint_train.shape, y_ypoint_train.shape"
   ]
  },
  {
   "cell_type": "code",
   "execution_count": null,
   "metadata": {},
   "outputs": [],
   "source": []
  }
 ],
 "metadata": {
  "kernelspec": {
   "display_name": "Python 3",
   "language": "python",
   "name": "python3"
  },
  "language_info": {
   "codemirror_mode": {
    "name": "ipython",
    "version": 3
   },
   "file_extension": ".py",
   "mimetype": "text/x-python",
   "name": "python",
   "nbconvert_exporter": "python",
   "pygments_lexer": "ipython3",
   "version": "3.6.5"
  }
 },
 "nbformat": 4,
 "nbformat_minor": 2
}
