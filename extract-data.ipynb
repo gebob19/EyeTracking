{
 "cells": [
  {
   "cell_type": "code",
   "execution_count": 1,
   "metadata": {},
   "outputs": [],
   "source": [
    "from sklearn.model_selection import train_test_split\n",
    "from pathlib import Path\n",
    "import matplotlib.image as img\n",
    "import json\n",
    "import numpy as np\n",
    "from tqdm import tqdm\n",
    "import h5py"
   ]
  },
  {
   "cell_type": "code",
   "execution_count": 2,
   "metadata": {
    "scrolled": true
   },
   "outputs": [],
   "source": [
    "# from tensorflow.python.client import device_lib\n",
    "# device_lib.list_local_devices()"
   ]
  },
  {
   "cell_type": "code",
   "execution_count": 3,
   "metadata": {},
   "outputs": [],
   "source": [
    "# Importing Data\n",
    "# Notes:\n",
    "\n",
    "# Orientation\n",
    "# 1: portrait\n",
    "# 2: portrait, upside down (iPad only)\n",
    "# 3: landscape, with home button on the right\n",
    "# 4: landscape, with home button on the left"
   ]
  },
  {
   "cell_type": "code",
   "execution_count": 4,
   "metadata": {},
   "outputs": [],
   "source": [
    "# Helper Functions from EDA\n",
    "def ejson(p, fn): # extract json\n",
    "    with open((p/fn).as_posix()) as f: return json.load(f) \n",
    "## Simple Json Reading Functions\n",
    "def info_data(p): return ejson(p, 'info.json')\n",
    "def dot_data(p): return ejson(p, 'dotInfo.json')\n",
    "def frame_data(p): return ejson(p, 'frames.json')    \n",
    "def screen_data(p): return ejson(p, 'screen.json')\n",
    "def get_frame(p, img_fn): return img.imread(p/'..'/'..'/'gazecapture-224x224'/p.name/'frames'/img_fn)\n",
    "## Larger Helper Functions\n",
    "def coordinate_data(p): \n",
    "    data = dot_data(p)\n",
    "    return data['XCam'], data['YCam'] # we want relative to camera coords"
   ]
  },
  {
   "cell_type": "code",
   "execution_count": 5,
   "metadata": {},
   "outputs": [],
   "source": [
    "# dset_path = Path('ml/gazecapture/')\n",
    "dset_path = Path('../gazecapture/')"
   ]
  },
  {
   "cell_type": "code",
   "execution_count": 6,
   "metadata": {},
   "outputs": [],
   "source": [
    "from multiprocessing import Pool\n",
    "import time\n",
    "from concurrent.futures import ThreadPoolExecutor\n",
    "import functools"
   ]
  },
  {
   "cell_type": "code",
   "execution_count": null,
   "metadata": {},
   "outputs": [],
   "source": [
    "# Extracting and storing X values\n",
    "def extract_photo(f, case): return get_frame(case, f)\n",
    "\n",
    "def extract(case):\n",
    "    F = frame_data(case) # list of file names correlated to camera images \n",
    "    with Pool(6) as p:  # multi core usale\n",
    "        x = [p.map(functools.partial(extract_photo, case=case), F)]\n",
    "    return x\n",
    " \n",
    "f = h5py.File('X-0.hdf5', 'w')\n",
    "bs = 500 # bs dsets per hp5y file\n",
    "for i, case in enumerate(list(dset_path.iterdir())):\n",
    "    cn = case.name\n",
    "    X = extract(case)[0]\n",
    "    dset = f.create_dataset('dset'+cn, (len(X), 224, 224, 3))\n",
    "    dset[...] = X\n",
    "    \n",
    "    if i % bs == 0 and i!= 0:\n",
    "        f.close()\n",
    "        f = h5py.File('X-{}.hdf5'.format(i//bs), 'w')"
   ]
  },
  {
   "cell_type": "code",
   "execution_count": null,
   "metadata": {},
   "outputs": [],
   "source": [
    "f = h5py.File('X-0.hdf5', 'r')\n",
    "for k in list(f.keys()):\n",
    "    print(f[k].shape)"
   ]
  },
  {
   "cell_type": "code",
   "execution_count": 7,
   "metadata": {},
   "outputs": [],
   "source": [
    "# # Y_Xpoint, Y_Ypoint = [], []\n",
    "\n",
    "# def extract_photo(f, case): return get_frame(case, f)\n",
    "\n",
    "# def extract(case):\n",
    "# #     XCam, YCam = coordinate_data(case) # list (x, y) coordinates rel to camera \n",
    "#     F = frame_data(case) # list of file names correlated to camera images \n",
    "# #     O = screen_data(case)['Orientation']\n",
    "# #     dset_class = info_data(case)['Dataset'] # used for splitting into test / train / val\n",
    "    \n",
    "#     with Pool(6) as p:\n",
    "#         x = [p.map(functools.partial(extract_photo, case=case), F)]\n",
    "#     return x\n",
    "    \n",
    "# #     for i in range(len(F)): # iterate each x, y value\n",
    "# #         x = get_frame(case, F[i]) # get the photo as matrix\n",
    "# #         xpoint, ypoint = XCam[i], YCam[i] # coordinate to predict \n",
    "        \n",
    "# #         X.append(x)\n",
    "# #         Y_Xpoint.append(xpoint)\n",
    "# #         Y_Ypoint.append(ypoint)\n",
    "# #         o = O[i] \n",
    "\n",
    "# X = np.zeros((31277, 224, 224, 3))\n",
    "# for i, case in enumerate(list(dset_path.iterdir())[:20]):\n",
    "#     X[i] = X + extract(case)\n",
    "\n",
    "# # with Pool(6) as p:\n",
    "# #     X = [p.map(extract, list(dset_path.iterdir())[:20])]\n",
    "\n",
    "# # X = np.asarray(X)\n",
    "# # Y_Xpoint, Y_Ypoint = np.asarray(Y_Xpoint), np.asarray(Y_Ypoint)"
   ]
  },
  {
   "cell_type": "code",
   "execution_count": 30,
   "metadata": {},
   "outputs": [],
   "source": [
    "# training and validation split\n",
    "x_train, x_val, y_xpoint_train, y_xpoint_val, y_ypoint_train, y_ypoint_val \\\n",
    "    = train_test_split(X, Y_Xpoint, Y_Ypoint, test_size=0.2, random_state=1)"
   ]
  },
  {
   "cell_type": "code",
   "execution_count": 33,
   "metadata": {},
   "outputs": [
    {
     "data": {
      "text/plain": [
       "((81, 640, 480, 3), (81,), (81,))"
      ]
     },
     "execution_count": 33,
     "metadata": {},
     "output_type": "execute_result"
    }
   ],
   "source": [
    "x_train.shape, y_xpoint_train.shape, y_ypoint_train.shape"
   ]
  },
  {
   "cell_type": "code",
   "execution_count": 15,
   "metadata": {},
   "outputs": [
    {
     "data": {
      "text/plain": [
       "31277"
      ]
     },
     "execution_count": 15,
     "metadata": {},
     "output_type": "execute_result"
    }
   ],
   "source": [
    "N = 0\n",
    "for i in range(len(X)):\n",
    "    N += len(X[i]) \n",
    "N"
   ]
  },
  {
   "cell_type": "code",
   "execution_count": 42,
   "metadata": {},
   "outputs": [
    {
     "ename": "MemoryError",
     "evalue": "",
     "output_type": "error",
     "traceback": [
      "\u001b[0;31m---------------------------------------------------------------------------\u001b[0m",
      "\u001b[0;31mMemoryError\u001b[0m                               Traceback (most recent call last)",
      "\u001b[0;32m<ipython-input-42-440bc90ffb1a>\u001b[0m in \u001b[0;36m<module>\u001b[0;34m\u001b[0m\n\u001b[1;32m      1\u001b[0m \u001b[0mbs\u001b[0m \u001b[0;34m=\u001b[0m \u001b[0;36m20\u001b[0m\u001b[0;34m\u001b[0m\u001b[0m\n\u001b[1;32m      2\u001b[0m \u001b[0;32mfor\u001b[0m \u001b[0mi\u001b[0m \u001b[0;32min\u001b[0m \u001b[0mrange\u001b[0m\u001b[0;34m(\u001b[0m\u001b[0mbs\u001b[0m\u001b[0;34m)\u001b[0m\u001b[0;34m:\u001b[0m\u001b[0;34m\u001b[0m\u001b[0m\n\u001b[0;32m----> 3\u001b[0;31m     \u001b[0mX\u001b[0m\u001b[0;34m[\u001b[0m\u001b[0;36m0\u001b[0m\u001b[0;34m]\u001b[0m \u001b[0;34m=\u001b[0m \u001b[0mnp\u001b[0m\u001b[0;34m.\u001b[0m\u001b[0masarray\u001b[0m\u001b[0;34m(\u001b[0m\u001b[0mlist\u001b[0m\u001b[0;34m(\u001b[0m\u001b[0mX\u001b[0m\u001b[0;34m[\u001b[0m\u001b[0;36m0\u001b[0m\u001b[0;34m]\u001b[0m\u001b[0;34m)\u001b[0m \u001b[0;34m+\u001b[0m \u001b[0mlist\u001b[0m\u001b[0;34m(\u001b[0m\u001b[0mX\u001b[0m\u001b[0;34m[\u001b[0m\u001b[0;36m1\u001b[0m\u001b[0;34m]\u001b[0m\u001b[0;34m)\u001b[0m\u001b[0;34m)\u001b[0m\u001b[0;34m\u001b[0m\u001b[0m\n\u001b[0m\u001b[1;32m      4\u001b[0m     \u001b[0mprint\u001b[0m\u001b[0;34m(\u001b[0m\u001b[0mi\u001b[0m\u001b[0;34m)\u001b[0m\u001b[0;34m\u001b[0m\u001b[0m\n",
      "\u001b[0;32m~/anaconda2/envs/py3/lib/python3.6/site-packages/numpy/core/numeric.py\u001b[0m in \u001b[0;36masarray\u001b[0;34m(a, dtype, order)\u001b[0m\n\u001b[1;32m    499\u001b[0m \u001b[0;34m\u001b[0m\u001b[0m\n\u001b[1;32m    500\u001b[0m     \"\"\"\n\u001b[0;32m--> 501\u001b[0;31m     \u001b[0;32mreturn\u001b[0m \u001b[0marray\u001b[0m\u001b[0;34m(\u001b[0m\u001b[0ma\u001b[0m\u001b[0;34m,\u001b[0m \u001b[0mdtype\u001b[0m\u001b[0;34m,\u001b[0m \u001b[0mcopy\u001b[0m\u001b[0;34m=\u001b[0m\u001b[0;32mFalse\u001b[0m\u001b[0;34m,\u001b[0m \u001b[0morder\u001b[0m\u001b[0;34m=\u001b[0m\u001b[0morder\u001b[0m\u001b[0;34m)\u001b[0m\u001b[0;34m\u001b[0m\u001b[0m\n\u001b[0m\u001b[1;32m    502\u001b[0m \u001b[0;34m\u001b[0m\u001b[0m\n\u001b[1;32m    503\u001b[0m \u001b[0;34m\u001b[0m\u001b[0m\n",
      "\u001b[0;31mMemoryError\u001b[0m: "
     ]
    }
   ],
   "source": [
    "bs = 20\n",
    "for i in range(bs):\n",
    "    X[0] = np.asarray(list(X[0]) + list(X[1]))\n",
    "    print(i)"
   ]
  },
  {
   "cell_type": "code",
   "execution_count": null,
   "metadata": {},
   "outputs": [],
   "source": []
  }
 ],
 "metadata": {
  "kernelspec": {
   "display_name": "Python 3",
   "language": "python",
   "name": "python3"
  },
  "language_info": {
   "codemirror_mode": {
    "name": "ipython",
    "version": 3
   },
   "file_extension": ".py",
   "mimetype": "text/x-python",
   "name": "python",
   "nbconvert_exporter": "python",
   "pygments_lexer": "ipython3",
   "version": "3.6.5"
  }
 },
 "nbformat": 4,
 "nbformat_minor": 2
}
