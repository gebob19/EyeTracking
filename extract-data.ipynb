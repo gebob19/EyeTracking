{
 "cells": [
  {
   "cell_type": "code",
   "execution_count": 1,
   "metadata": {},
   "outputs": [],
   "source": [
    "from sklearn.model_selection import train_test_split\n",
    "from pathlib import Path\n",
    "import matplotlib.image as img\n",
    "import json\n",
    "import numpy as np\n",
    "from tqdm import tqdm\n",
    "import h5py\n",
    "\n",
    "from multiprocessing import Pool\n",
    "import time\n",
    "from concurrent.futures import ThreadPoolExecutor\n",
    "import functools\n",
    "import pandas as pd"
   ]
  },
  {
   "cell_type": "markdown",
   "metadata": {},
   "source": [
    "# Helper Functions"
   ]
  },
  {
   "cell_type": "code",
   "execution_count": 2,
   "metadata": {},
   "outputs": [],
   "source": [
    "# Helper Functions from EDA\n",
    "def ejson(p, fn): # extract json\n",
    "    with open((p/fn).as_posix()) as f: return json.load(f) \n",
    "## Simple Json Reading Functions\n",
    "def info_data(p): return ejson(p, 'info.json')\n",
    "def dot_data(p): return ejson(p, 'dotInfo.json')\n",
    "def frame_data(p): return ejson(p, 'frames.json')    \n",
    "def screen_data(p): return ejson(p, 'screen.json')\n",
    "\n",
    "def get_eye_info(i): return ejson(i, 'appleLeftEye.json'), ejson(i, 'appleRightEye.json')\n",
    "def get_face_info(i): return ejson(i, 'appleFace.json')\n",
    "def get_facegrid(i): return ejson(i, 'faceGrid.json')\n",
    "\n",
    "def get_frame(p, img_fn): return img.imread(p/'..'/'..'/'gazecapture-224x224'/p.name/'frames'/img_fn)\n",
    "## Larger Helper Functions\n",
    "def coordinate_data(p): \n",
    "    data = dot_data(p)\n",
    "    return data['XCam'], data['YCam'] # we want relative to camera coords\n",
    "def orientation_data(p):\n",
    "    sdata = screen_data(p)\n",
    "    return sdata['Orientation']"
   ]
  },
  {
   "cell_type": "code",
   "execution_count": 3,
   "metadata": {},
   "outputs": [],
   "source": [
    "# dset_path = Path('/media/brennan/Data/ml/gazecapture/')\n",
    "dset_path = Path('../gazecapture/')"
   ]
  },
  {
   "cell_type": "markdown",
   "metadata": {},
   "source": [
    "# Extract File Names\n",
    "We first split on case before splitting on frames"
   ]
  },
  {
   "cell_type": "code",
   "execution_count": 4,
   "metadata": {},
   "outputs": [],
   "source": [
    "test_size = 0.1"
   ]
  },
  {
   "cell_type": "code",
   "execution_count": 5,
   "metadata": {},
   "outputs": [],
   "source": [
    "invalid_cases = ['02984',\n",
    "                 '02032',\n",
    "                 '01030',\n",
    "                 '01152',\n",
    "                 '00325',\n",
    "                 '02622',\n",
    "                 '00827',\n",
    "                 '02119',\n",
    "                 '00927',\n",
    "                 '03277',\n",
    "                 '02190',\n",
    "                 '01282',\n",
    "                 '00808',\n",
    "                 '01474',\n",
    "                 '01805',\n",
    "                 '00207',\n",
    "                 '00666',\n",
    "                 '01066',\n",
    "                 '01243',\n",
    "                 '01269',\n",
    "                 '01661',\n",
    "                 '02048',\n",
    "                 '01266',\n",
    "                 '00619',\n",
    "                 '00779',\n",
    "                 '01090',\n",
    "                 '03059',\n",
    "                 '01432',\n",
    "                 '01225',\n",
    "                 '03060',\n",
    "                 '02781',\n",
    "                 '00138',\n",
    "                 '02526',\n",
    "                 '01353',\n",
    "                 '02967',\n",
    "                 '02093',\n",
    "                 '02165']"
   ]
  },
  {
   "cell_type": "code",
   "execution_count": 18,
   "metadata": {},
   "outputs": [
    {
     "data": {
      "text/plain": [
       "(1326, 148)"
      ]
     },
     "execution_count": 18,
     "metadata": {},
     "output_type": "execute_result"
    }
   ],
   "source": [
    "def extract_data(cases, accepted_o=[1, 2, 3, 4]):\n",
    "    fnames = []\n",
    "    XCam, YCam = [], []\n",
    "    FaceH, FaceW, FaceX, FaceY = [], [], [], []\n",
    "    IsValid = []\n",
    "    \n",
    "    for case in cases:\n",
    "        if not (case in invalid_cases):\n",
    "            FRAME_N = frame_data(case)\n",
    "            O = orientation_data(case)\n",
    "            XCAM, YCAM = coordinate_data(case)\n",
    "            FACE = get_face_info(case)\n",
    "\n",
    "            for frame_n, o, xcam, ycam, \\\n",
    "                fh, fw, fx, fy, valid in zip(FRAME_N, O, XCAM, YCAM, \n",
    "                                     FACE['H'], FACE['W'], FACE['X'], FACE['Y'], FACE['IsValid']):\n",
    "                \n",
    "                if o in accepted_o and valid == 1:\n",
    "                    fnames.append('{}/frames/{}'.format(case.name, frame_n))\n",
    "                    XCam.append(xcam)\n",
    "                    YCam.append(ycam)\n",
    "                    IsValid.append(valid)\n",
    "                    FaceH.append(fh)\n",
    "                    FaceW.append(fw)\n",
    "                    FaceX.append(fx)\n",
    "                    FaceY.append(fy)\n",
    "\n",
    "    # package to dataframe\n",
    "    df = pd.DataFrame(data={'file_names': fnames, \n",
    "                            'XCam': XCam,\n",
    "                            'YCam': YCam,\n",
    "                            'IsValid': IsValid,\n",
    "                            'FaceH': FaceH, \n",
    "                            'FaceW': FaceW,\n",
    "                            'FaceX': FaceX,\n",
    "                            'FaceY': FaceY})        \n",
    "    \n",
    "    return df\n",
    "\n",
    "# Extract all case names first to split => faces it hasnt seen before\n",
    "train_cases, test_cases = train_test_split(list(dset_path.iterdir()), test_size=test_size)\n",
    "len(train_cases), len(test_cases)"
   ]
  },
  {
   "cell_type": "markdown",
   "metadata": {},
   "source": [
    "# Extract all Images"
   ]
  },
  {
   "cell_type": "code",
   "execution_count": 23,
   "metadata": {},
   "outputs": [],
   "source": [
    "# create dataframe from data\n",
    "# ALL PHOTOS split into train / test sets\n",
    "train_df = extract_data(train_cases)\n",
    "test_df = extract_data(test_cases)\n",
    "\n",
    "train_df.to_csv('traindf.csv')\n",
    "test_df.to_csv('testdf.csv')"
   ]
  },
  {
   "cell_type": "markdown",
   "metadata": {},
   "source": [
    "# Extract ONLY Portrait Images"
   ]
  },
  {
   "cell_type": "code",
   "execution_count": 19,
   "metadata": {},
   "outputs": [],
   "source": [
    "train_df = extract_data(train_cases, accepted_o=[1])\n",
    "test_df = extract_data(test_cases, accepted_o=[1])\n",
    "train_df.to_csv('portrait-data/traindf.csv')\n",
    "test_df.to_csv('portrait-data/testdf.csv')"
   ]
  },
  {
   "cell_type": "code",
   "execution_count": 30,
   "metadata": {},
   "outputs": [
    {
     "data": {
      "text/plain": [
       "(82893, 693269)"
      ]
     },
     "execution_count": 30,
     "metadata": {},
     "output_type": "execute_result"
    }
   ],
   "source": [
    "len(test_df), len(train_df)"
   ]
  },
  {
   "cell_type": "code",
   "execution_count": 31,
   "metadata": {},
   "outputs": [
    {
     "data": {
      "text/plain": [
       "(0.10679858070866649, 0.8932014192913336)"
      ]
     },
     "execution_count": 31,
     "metadata": {},
     "output_type": "execute_result"
    }
   ],
   "source": [
    "len(test_df) / (len(test_df) + len(train_df)), len(train_df) / (len(test_df) + len(train_df))"
   ]
  },
  {
   "cell_type": "markdown",
   "metadata": {},
   "source": [
    "# Extract & Split LandScape Images"
   ]
  },
  {
   "cell_type": "code",
   "execution_count": 20,
   "metadata": {},
   "outputs": [],
   "source": [
    "train_df = extract_data(train_cases, accepted_o=[3])\n",
    "test_df = extract_data(test_cases, accepted_o=[3])\n",
    "train_df.to_csv('landscape-r-data/traindf.csv')\n",
    "test_df.to_csv('landscape-r-data/testdf.csv')"
   ]
  },
  {
   "cell_type": "code",
   "execution_count": 21,
   "metadata": {},
   "outputs": [],
   "source": [
    "train_df = extract_data(train_cases, accepted_o=[4])\n",
    "test_df = extract_data(test_cases, accepted_o=[4])\n",
    "train_df.to_csv('landscape-l-data/traindf.csv')\n",
    "test_df.to_csv('landscape-l-data/testdf.csv')"
   ]
  },
  {
   "cell_type": "markdown",
   "metadata": {},
   "source": [
    "# Extract Split Which Was Used In The Paper\n",
    "http://gazecapture.csail.mit.edu/cvpr2016_gazecapture.pdf"
   ]
  },
  {
   "cell_type": "code",
   "execution_count": 13,
   "metadata": {},
   "outputs": [],
   "source": [
    "class Dataset:\n",
    "    def __init__(self):\n",
    "        self.fnames = []\n",
    "        self.XCam = []\n",
    "        self.YCam = []\n",
    "        self.FaceH, self.FaceW, self.FaceX, self.FaceY = [], [], [], []\n",
    "    \n",
    "    def append(self, fname, xcam, ycam, fh, fw, fx, fy):\n",
    "        self.fnames.append(fname)\n",
    "        self.XCam.append(xcam)\n",
    "        self.YCam.append(ycam)\n",
    "        self.FaceH.append(fh)\n",
    "        self.FaceW.append(fw)\n",
    "        self.FaceX.append(fx)\n",
    "        self.FaceY.append(fy)"
   ]
  },
  {
   "cell_type": "code",
   "execution_count": 17,
   "metadata": {},
   "outputs": [],
   "source": [
    "def extract_split(cases, accepted_o=[1, 2, 3, 4]):\n",
    "    train, val, test = Dataset(), Dataset(), Dataset()\n",
    "    \n",
    "    i = 0\n",
    "    for case in cases:\n",
    "        dset = info_data(case)['Dataset']\n",
    "        if not (case in invalid_cases):\n",
    "            FRAME_N = frame_data(case)\n",
    "            O = orientation_data(case)\n",
    "            XCAM, YCAM = coordinate_data(case)\n",
    "            FACE = get_face_info(case)\n",
    "            \n",
    "            if dset == 'train': dataset = train\n",
    "            elif dset == 'val': dataset = val\n",
    "            elif dset == 'test': dataset = test\n",
    "\n",
    "            for frame_n, o, xcam, ycam, \\\n",
    "                fh, fw, fx, fy, valid in zip(FRAME_N, O, XCAM, YCAM, \n",
    "                                     FACE['H'], FACE['W'], FACE['X'], FACE['Y'], FACE['IsValid']):\n",
    "                if o in accepted_o and valid:\n",
    "                    dataset.append('{}/frames/{}'.format(case.name, frame_n), \n",
    "                                   xcam, \n",
    "                                   ycam,\n",
    "                                   fh, fw, fx, fy)\n",
    "        \n",
    "\n",
    "    dset_df = []\n",
    "    for dataset in [train, test, val]:\n",
    "        # package to dataframe\n",
    "        df = pd.DataFrame(data={'file_names': dataset.fnames, \n",
    "                                'XCam': dataset.XCam,\n",
    "                                'YCam': dataset.YCam,\n",
    "                                'FaceH': dataset.FaceH, \n",
    "                                'FaceW': dataset.FaceW,\n",
    "                                'FaceX': dataset.FaceX,\n",
    "                                'FaceY': dataset.FaceY})        \n",
    "        dset_df.append(df)\n",
    "\n",
    "    return dset_df[0], dset_df[1], dset_df[2]"
   ]
  },
  {
   "cell_type": "markdown",
   "metadata": {},
   "source": [
    "## Portrait Split"
   ]
  },
  {
   "cell_type": "code",
   "execution_count": 18,
   "metadata": {},
   "outputs": [],
   "source": [
    "traindf, valdf, testdf = extract_split(list(dset_path.iterdir()), accepted_o=[1])\n",
    "traindf.to_csv('papersplit/portrait/traindf.csv')\n",
    "valdf.to_csv('papersplit/portrait/valdf.csv')\n",
    "testdf.to_csv('papersplit/portrait/testdf.csv')"
   ]
  },
  {
   "cell_type": "code",
   "execution_count": 23,
   "metadata": {
    "scrolled": true
   },
   "outputs": [
    {
     "data": {
      "text/html": [
       "<div>\n",
       "<style scoped>\n",
       "    .dataframe tbody tr th:only-of-type {\n",
       "        vertical-align: middle;\n",
       "    }\n",
       "\n",
       "    .dataframe tbody tr th {\n",
       "        vertical-align: top;\n",
       "    }\n",
       "\n",
       "    .dataframe thead th {\n",
       "        text-align: right;\n",
       "    }\n",
       "</style>\n",
       "<table border=\"1\" class=\"dataframe\">\n",
       "  <thead>\n",
       "    <tr style=\"text-align: right;\">\n",
       "      <th></th>\n",
       "      <th>file_names</th>\n",
       "      <th>XCam</th>\n",
       "      <th>YCam</th>\n",
       "      <th>FaceH</th>\n",
       "      <th>FaceW</th>\n",
       "      <th>FaceX</th>\n",
       "      <th>FaceY</th>\n",
       "    </tr>\n",
       "  </thead>\n",
       "  <tbody>\n",
       "    <tr>\n",
       "      <th>254493</th>\n",
       "      <td>03495/frames/00614.jpg</td>\n",
       "      <td>0.699654</td>\n",
       "      <td>-7.244497</td>\n",
       "      <td>309.765119</td>\n",
       "      <td>310.069759</td>\n",
       "      <td>64.15312</td>\n",
       "      <td>273.82144</td>\n",
       "    </tr>\n",
       "    <tr>\n",
       "      <th>670077</th>\n",
       "      <td>02220/frames/00441.jpg</td>\n",
       "      <td>-0.822311</td>\n",
       "      <td>-2.067800</td>\n",
       "      <td>288.959999</td>\n",
       "      <td>288.959999</td>\n",
       "      <td>176.52000</td>\n",
       "      <td>290.52000</td>\n",
       "    </tr>\n",
       "    <tr>\n",
       "      <th>354688</th>\n",
       "      <td>02566/frames/00103.jpg</td>\n",
       "      <td>0.205354</td>\n",
       "      <td>-7.052441</td>\n",
       "      <td>228.085759</td>\n",
       "      <td>228.215679</td>\n",
       "      <td>107.25816</td>\n",
       "      <td>308.46912</td>\n",
       "    </tr>\n",
       "    <tr>\n",
       "      <th>37625</th>\n",
       "      <td>00114/frames/00016.jpg</td>\n",
       "      <td>-0.887413</td>\n",
       "      <td>-7.757504</td>\n",
       "      <td>210.560000</td>\n",
       "      <td>210.560000</td>\n",
       "      <td>150.72000</td>\n",
       "      <td>428.72000</td>\n",
       "    </tr>\n",
       "    <tr>\n",
       "      <th>471154</th>\n",
       "      <td>01930/frames/00216.jpg</td>\n",
       "      <td>3.327601</td>\n",
       "      <td>-7.571447</td>\n",
       "      <td>288.959999</td>\n",
       "      <td>289.470719</td>\n",
       "      <td>57.99664</td>\n",
       "      <td>339.60800</td>\n",
       "    </tr>\n",
       "  </tbody>\n",
       "</table>\n",
       "</div>"
      ],
      "text/plain": [
       "                    file_names      XCam      YCam       FaceH       FaceW  \\\n",
       "254493  03495/frames/00614.jpg  0.699654 -7.244497  309.765119  310.069759   \n",
       "670077  02220/frames/00441.jpg -0.822311 -2.067800  288.959999  288.959999   \n",
       "354688  02566/frames/00103.jpg  0.205354 -7.052441  228.085759  228.215679   \n",
       "37625   00114/frames/00016.jpg -0.887413 -7.757504  210.560000  210.560000   \n",
       "471154  01930/frames/00216.jpg  3.327601 -7.571447  288.959999  289.470719   \n",
       "\n",
       "            FaceX      FaceY  \n",
       "254493   64.15312  273.82144  \n",
       "670077  176.52000  290.52000  \n",
       "354688  107.25816  308.46912  \n",
       "37625   150.72000  428.72000  \n",
       "471154   57.99664  339.60800  "
      ]
     },
     "execution_count": 23,
     "metadata": {},
     "output_type": "execute_result"
    }
   ],
   "source": [
    "traindf.sample(frac=1).head()"
   ]
  },
  {
   "cell_type": "code",
   "execution_count": 24,
   "metadata": {},
   "outputs": [
    {
     "data": {
      "text/plain": [
       "(697315, 92575, 29538)"
      ]
     },
     "execution_count": 24,
     "metadata": {},
     "output_type": "execute_result"
    }
   ],
   "source": [
    "len(traindf), len(valdf), len(testdf)"
   ]
  },
  {
   "cell_type": "markdown",
   "metadata": {},
   "source": [
    "## Landscape Split"
   ]
  },
  {
   "cell_type": "code",
   "execution_count": 25,
   "metadata": {},
   "outputs": [],
   "source": [
    "traindf, valdf, testdf = extract_split(list(dset_path.iterdir()), accepted_o=[3])\n",
    "traindf.to_csv('papersplit/landscape-r/traindf.csv')\n",
    "valdf.to_csv('papersplit/landscape-r/valdf.csv')\n",
    "testdf.to_csv('papersplit/landscape-r/testdf.csv')"
   ]
  },
  {
   "cell_type": "code",
   "execution_count": 26,
   "metadata": {},
   "outputs": [],
   "source": [
    "traindf, valdf, testdf = extract_split(list(dset_path.iterdir()), accepted_o=[4])\n",
    "traindf.to_csv('papersplit/landscape-l/traindf.csv')\n",
    "valdf.to_csv('papersplit/landscape-l/valdf.csv')\n",
    "testdf.to_csv('papersplit/landscape-l/testdf.csv')"
   ]
  },
  {
   "cell_type": "code",
   "execution_count": null,
   "metadata": {},
   "outputs": [],
   "source": []
  }
 ],
 "metadata": {
  "kernelspec": {
   "display_name": "Python 3",
   "language": "python",
   "name": "python3"
  },
  "language_info": {
   "codemirror_mode": {
    "name": "ipython",
    "version": 3
   },
   "file_extension": ".py",
   "mimetype": "text/x-python",
   "name": "python",
   "nbconvert_exporter": "python",
   "pygments_lexer": "ipython3",
   "version": "3.6.7"
  }
 },
 "nbformat": 4,
 "nbformat_minor": 2
}
