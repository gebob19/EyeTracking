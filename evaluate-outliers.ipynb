{
 "cells": [
  {
   "cell_type": "code",
   "execution_count": 144,
   "metadata": {},
   "outputs": [],
   "source": [
    "import numpy as np\n",
    "import pandas as pd\n",
    "import matplotlib.pyplot as plt\n",
    "import pickle as pkl"
   ]
  },
  {
   "cell_type": "code",
   "execution_count": 145,
   "metadata": {},
   "outputs": [],
   "source": [
    "import threading\n",
    "import optparse\n",
    "from pathlib import Path\n",
    "\n",
    "import cv2\n",
    "import pandas as pd\n",
    "import numpy as np\n",
    "import matplotlib.image as img\n",
    "from sklearn.model_selection import train_test_split\n",
    "from keras.losses import mean_squared_error, logcosh, mean_absolute_error\n",
    "from keras.optimizers import RMSprop, Adam\n",
    "from keras.callbacks import ReduceLROnPlateau, ModelCheckpoint, EarlyStopping, TensorBoard\n",
    "\n",
    "from model import mobnet\n",
    "from generator import generator"
   ]
  },
  {
   "cell_type": "markdown",
   "metadata": {},
   "source": [
    "# Portrait Analysis"
   ]
  },
  {
   "cell_type": "code",
   "execution_count": 7,
   "metadata": {},
   "outputs": [],
   "source": [
    "dset_path = Path('../gazecapture')\n",
    "dset_df = 'portrait'\n",
    "\n",
    "shape = (667, 375, 3)\n",
    "lr = 1e-3\n",
    "optim = RMSprop(lr)\n",
    "loss = logcosh\n",
    "BATCH_SIZE = 16\n",
    "\n",
    "train = pd.read_csv('init-dataresults/{}-data/{}-traindf.csv'.format(dset_df, dset_df))"
   ]
  },
  {
   "cell_type": "code",
   "execution_count": 3,
   "metadata": {},
   "outputs": [],
   "source": [
    "model = mobnet(shape, None)\n",
    "model.compile(loss = loss,\n",
    "            optimizer = optim)\n",
    "# model.load_weights('{}-data/weights/0.002-RMSprop-logcosh.hdf5'.format(dset_df))\n",
    "model.load_weights('{}-data/1-38-test.hdf5'.format(dset_df))"
   ]
  },
  {
   "cell_type": "code",
   "execution_count": 6,
   "metadata": {},
   "outputs": [
    {
     "name": "stdout",
     "output_type": "stream",
     "text": [
      "41539/41539 [==============================] - 7565s 182ms/step\n"
     ]
    }
   ],
   "source": [
    "y_preds = model.predict_generator(generator=train_generator(train, shape, BATCH_SIZE, dset_path, shuffle=False),\n",
    "                         steps=np.ceil(float(len(train)) / float(BATCH_SIZE)),\n",
    "                         verbose=1)"
   ]
  },
  {
   "cell_type": "code",
   "execution_count": 124,
   "metadata": {},
   "outputs": [],
   "source": [
    "# with open('y_preds.pkl', 'wb') as f:\n",
    "#     pkl.dump(y_preds, f)"
   ]
  },
  {
   "cell_type": "code",
   "execution_count": 8,
   "metadata": {},
   "outputs": [],
   "source": [
    "with open('init-dataresults/y_preds.pkl', 'rb') as f:\n",
    "    y_preds = pkl.load(f)"
   ]
  },
  {
   "cell_type": "code",
   "execution_count": 9,
   "metadata": {},
   "outputs": [],
   "source": [
    "XCam = train['XCam'].values\n",
    "YCam = train['YCam'].values\n",
    "y_true = np.asarray([[xcam, ycam] for xcam, ycam in zip(XCam, YCam)])"
   ]
  },
  {
   "cell_type": "code",
   "execution_count": 10,
   "metadata": {},
   "outputs": [],
   "source": [
    "diff = np.sum(np.absolute(y_true - y_preds), axis=1)"
   ]
  },
  {
   "cell_type": "code",
   "execution_count": 11,
   "metadata": {},
   "outputs": [],
   "source": [
    "filenames = train['file_names'].values"
   ]
  },
  {
   "cell_type": "code",
   "execution_count": 146,
   "metadata": {},
   "outputs": [],
   "source": [
    "# top k differences\n",
    "k = 100000\n",
    "indexs = np.argpartition(diff, -k)[-k:]\n",
    "# diff[indexs]"
   ]
  },
  {
   "cell_type": "markdown",
   "metadata": {},
   "source": [
    "## Manual Check"
   ]
  },
  {
   "cell_type": "code",
   "execution_count": 191,
   "metadata": {},
   "outputs": [],
   "source": [
    "# cases manually found\n",
    "cases_to_remove = ['02984', '02032', '01030', '01152', '00325', '02622', '00827', '02119', '00927',\n",
    "                  '03277', '02190', '01282', '00808', '01474', '01805', '00207', '00666']"
   ]
  },
  {
   "cell_type": "code",
   "execution_count": null,
   "metadata": {},
   "outputs": [],
   "source": [
    "# f, axes = plt.subplots(5, 2, figsize=(20, 20))\n",
    "# i = 0\n",
    "# for ax in axes.flatten():\n",
    "#     image = False\n",
    "#     while not image and i < k:\n",
    "#         index = indexs[i]\n",
    "#         fn_i = fn[index]\n",
    "#         case = fn_i[:fn_i.index('/')]\n",
    "#         if case not in cases_to_remove:\n",
    "#             im = cv2.imread('{}/{}'.format(dset_path, fn_i))\n",
    "#             ax.imshow(im)\n",
    "#             ax.set_title('{}-{}'.format(fn_i, int(diff[index])))\n",
    "#             image=True\n",
    "#             # view a case only once\n",
    "#             cases_to_remove.append(case)\n",
    "#         i+=1\n",
    "# plt.tight_layout()\n",
    "# plt.show()"
   ]
  },
  {
   "cell_type": "markdown",
   "metadata": {},
   "source": [
    "## Check # of Occurances for each Case\n",
    "Checking for cases which the user is never looking at the phone, seemed to be quite a few of the manual checks"
   ]
  },
  {
   "cell_type": "code",
   "execution_count": 147,
   "metadata": {},
   "outputs": [],
   "source": [
    "error = []\n",
    "cases_of_poorly_predicted  = []\n",
    "for i in indexs:\n",
    "    fn = filenames[i]\n",
    "    case = fn[:fn.index('/')]\n",
    "    cases_of_poorly_predicted.append(case)\n",
    "    error.append(diff[i])"
   ]
  },
  {
   "cell_type": "code",
   "execution_count": 148,
   "metadata": {},
   "outputs": [
    {
     "data": {
      "text/plain": [
       "2.966938785552978"
      ]
     },
     "execution_count": 148,
     "metadata": {},
     "output_type": "execute_result"
    }
   ],
   "source": [
    "min(error)"
   ]
  },
  {
   "cell_type": "code",
   "execution_count": 149,
   "metadata": {},
   "outputs": [],
   "source": [
    "from collections import Counter"
   ]
  },
  {
   "cell_type": "code",
   "execution_count": 150,
   "metadata": {},
   "outputs": [],
   "source": [
    "ccount = Counter(cases_of_poorly_predicted)"
   ]
  },
  {
   "cell_type": "code",
   "execution_count": 151,
   "metadata": {},
   "outputs": [],
   "source": [
    "k = 50\n",
    "kmost = ccount.most_common(k)"
   ]
  },
  {
   "cell_type": "code",
   "execution_count": 152,
   "metadata": {},
   "outputs": [
    {
     "name": "stdout",
     "output_type": "stream",
     "text": [
      "number of cases which were also found manually: 18\n",
      "number of frames found in total: 16738\n"
     ]
    }
   ],
   "source": [
    "# check to see if we caught any of the top k manually\n",
    "count = 0\n",
    "num_frames = 0\n",
    "for case, nf in kmost:\n",
    "    num_frames += nf\n",
    "    if case in cases_to_remove: count += 1\n",
    "print(\"number of cases which were also found manually:\", count)\n",
    "print('number of frames found in total:', num_frames)"
   ]
  },
  {
   "cell_type": "code",
   "execution_count": 153,
   "metadata": {},
   "outputs": [],
   "source": [
    "case = [case for case, _ in kmost]\n",
    "count = [count for _, count in kmost]\n",
    "df = pd.DataFrame(dict(case=case, count=count))"
   ]
  },
  {
   "cell_type": "code",
   "execution_count": 69,
   "metadata": {},
   "outputs": [
    {
     "data": {
      "image/png": "[encoded data removed]",
      "text/plain": [
       "<Figure size 864x432 with 1 Axes>"
      ]
     },
     "metadata": {},
     "output_type": "display_data"
    }
   ],
   "source": [
    "import seaborn as sns\n",
    "import matplotlib.pyplot as plt\n",
    "sns.set(rc={'figure.figsize':(30,30)})\n",
    "ax = sns.catplot(\"case\", \"count\", data=df, kind='bar', height=6, aspect=2)\n",
    "plt.subplots_adjust(top=0.9)\n",
    "ax.fig.suptitle('Case # vs Number of Predictions > ~{}cm error'.format(int(min(error))))\n",
    "plt.show()"
   ]
  },
  {
   "cell_type": "code",
   "execution_count": 167,
   "metadata": {},
   "outputs": [],
   "source": [
    "i=0"
   ]
  },
  {
   "cell_type": "code",
   "execution_count": 192,
   "metadata": {},
   "outputs": [],
   "source": [
    "cases_to_remove.extend(['01066', '01243', '01269', '01661', '02048', '01266', '00619', '00779', '01090',\n",
    "                       '03059', '01432', '01225', '03060', '02781', '00138', '02526',\n",
    "                       '01353', '02967', '02093', '02165'])"
   ]
  },
  {
   "cell_type": "code",
   "execution_count": 183,
   "metadata": {},
   "outputs": [],
   "source": [
    "import random"
   ]
  },
  {
   "cell_type": "code",
   "execution_count": 190,
   "metadata": {
    "scrolled": false
   },
   "outputs": [
    {
     "ename": "IndexError",
     "evalue": "list index out of range",
     "output_type": "error",
     "traceback": [
      "\u001b[0;31m---------------------------------------------------------------------------\u001b[0m",
      "\u001b[0;31mIndexError\u001b[0m                                Traceback (most recent call last)",
      "\u001b[0;32m<ipython-input-190-76f2b4e60a6e>\u001b[0m in \u001b[0;36m<module>\u001b[0;34m\u001b[0m\n\u001b[1;32m      5\u001b[0m \u001b[0;34m\u001b[0m\u001b[0m\n\u001b[1;32m      6\u001b[0m \u001b[0;32mif\u001b[0m \u001b[0;32mnot\u001b[0m \u001b[0;34m(\u001b[0m\u001b[0mcase_i\u001b[0m \u001b[0;32min\u001b[0m \u001b[0mcases_to_remove\u001b[0m\u001b[0;34m)\u001b[0m\u001b[0;34m:\u001b[0m\u001b[0;34m\u001b[0m\u001b[0m\n\u001b[0;32m----> 7\u001b[0;31m     \u001b[0mprint\u001b[0m\u001b[0;34m(\u001b[0m\u001b[0mcase_i\u001b[0m\u001b[0;34m,\u001b[0m \u001b[0mi\u001b[0m\u001b[0;34m,\u001b[0m \u001b[0mcount\u001b[0m\u001b[0;34m[\u001b[0m\u001b[0mi\u001b[0m\u001b[0;34m]\u001b[0m\u001b[0;34m)\u001b[0m\u001b[0;34m\u001b[0m\u001b[0m\n\u001b[0m\u001b[1;32m      8\u001b[0m     \u001b[0mf\u001b[0m\u001b[0;34m,\u001b[0m \u001b[0maxes\u001b[0m \u001b[0;34m=\u001b[0m \u001b[0mplt\u001b[0m\u001b[0;34m.\u001b[0m\u001b[0msubplots\u001b[0m\u001b[0;34m(\u001b[0m\u001b[0;36m5\u001b[0m\u001b[0;34m,\u001b[0m \u001b[0;36m2\u001b[0m\u001b[0;34m,\u001b[0m \u001b[0mfigsize\u001b[0m\u001b[0;34m=\u001b[0m\u001b[0;34m(\u001b[0m\u001b[0;36m20\u001b[0m\u001b[0;34m,\u001b[0m \u001b[0;36m20\u001b[0m\u001b[0;34m)\u001b[0m\u001b[0;34m)\u001b[0m\u001b[0;34m\u001b[0m\u001b[0m\n\u001b[1;32m      9\u001b[0m     \u001b[0mfnames\u001b[0m \u001b[0;34m=\u001b[0m \u001b[0;34m[\u001b[0m\u001b[0mstr\u001b[0m\u001b[0;34m(\u001b[0m\u001b[0mt\u001b[0m\u001b[0;34m)\u001b[0m \u001b[0;32mfor\u001b[0m \u001b[0mt\u001b[0m \u001b[0;32min\u001b[0m \u001b[0mlist\u001b[0m\u001b[0;34m(\u001b[0m\u001b[0;34m(\u001b[0m\u001b[0mdset_path\u001b[0m\u001b[0;34m/\u001b[0m\u001b[0mcase_i\u001b[0m\u001b[0;34m/\u001b[0m\u001b[0;34m'frames'\u001b[0m\u001b[0;34m)\u001b[0m\u001b[0;34m.\u001b[0m\u001b[0miterdir\u001b[0m\u001b[0;34m(\u001b[0m\u001b[0;34m)\u001b[0m\u001b[0;34m)\u001b[0m\u001b[0;34m]\u001b[0m\u001b[0;34m\u001b[0m\u001b[0m\n",
      "\u001b[0;31mIndexError\u001b[0m: list index out of range"
     ]
    }
   ],
   "source": [
    "case_i = case[i]\n",
    "while case_i in cases_to_remove and i <  k:\n",
    "    case_i = case[i]\n",
    "    i += 1\n",
    "\n",
    "if not (case_i in cases_to_remove) and i != k:\n",
    "    print(case_i, i, count[i])\n",
    "    f, axes = plt.subplots(5, 2, figsize=(20, 20))\n",
    "    fnames = [str(t) for t in list((dset_path/case_i/'frames').iterdir())]\n",
    "    cut_names = [int(t[t.index('.jpg')-5:t.index('.jpg')]) for t in fnames]\n",
    "    cut_names.sort(key=int)\n",
    "    cut_names = cut_names[:100]\n",
    "    random.shuffle(cut_names)\n",
    "\n",
    "    for ax, fn in zip(axes.flatten(), cut_names[:5*2]):\n",
    "        im = img.imread(dset_path/case_i/'frames'/(format(fn, '05d')+'.jpg'))\n",
    "        ax.imshow(im)\n",
    "        ax.set_title('{}'.format(fn))\n",
    "    i += 1\n",
    "    plt.tight_layout()\n",
    "    plt.show()"
   ]
  },
  {
   "cell_type": "code",
   "execution_count": 194,
   "metadata": {},
   "outputs": [
    {
     "data": {
      "text/plain": [
       "['02984',\n",
       " '02032',\n",
       " '01030',\n",
       " '01152',\n",
       " '00325',\n",
       " '02622',\n",
       " '00827',\n",
       " '02119',\n",
       " '00927',\n",
       " '03277',\n",
       " '02190',\n",
       " '01282',\n",
       " '00808',\n",
       " '01474',\n",
       " '01805',\n",
       " '00207',\n",
       " '00666',\n",
       " '01066',\n",
       " '01243',\n",
       " '01269',\n",
       " '01661',\n",
       " '02048',\n",
       " '01266',\n",
       " '00619',\n",
       " '00779',\n",
       " '01090',\n",
       " '03059',\n",
       " '01432',\n",
       " '01225',\n",
       " '03060',\n",
       " '02781',\n",
       " '00138',\n",
       " '02526',\n",
       " '01353',\n",
       " '02967',\n",
       " '02093',\n",
       " '02165']"
      ]
     },
     "execution_count": 194,
     "metadata": {},
     "output_type": "execute_result"
    }
   ],
   "source": [
    "cases_to_remove"
   ]
  },
  {
   "cell_type": "code",
   "execution_count": null,
   "metadata": {},
   "outputs": [],
   "source": []
  }
 ],
 "metadata": {
  "kernelspec": {
   "display_name": "Python 3",
   "language": "python",
   "name": "python3"
  },
  "language_info": {
   "codemirror_mode": {
    "name": "ipython",
    "version": 3
   },
   "file_extension": ".py",
   "mimetype": "text/x-python",
   "name": "python",
   "nbconvert_exporter": "python",
   "pygments_lexer": "ipython3",
   "version": "3.6.5"
  }
 },
 "nbformat": 4,
 "nbformat_minor": 2
}
