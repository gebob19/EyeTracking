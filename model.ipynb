{
 "cells": [
  {
   "cell_type": "code",
   "execution_count": 8,
   "metadata": {},
   "outputs": [],
   "source": [
    "import tensorflow as tf\n",
    "import keras\n",
    "from keras.applications.mobilenet_v2 import MobileNetV2\n",
    "from keras.models import Model\n",
    "from keras.losses import mean_squared_error\n",
    "from keras.optimizers import RMSprop\n",
    "from keras.layers import Dense, Flatten, Reshape"
   ]
  },
  {
   "cell_type": "code",
   "execution_count": 12,
   "metadata": {},
   "outputs": [],
   "source": [
    "def rename_layers(model, postfix):\n",
    "    for l in model.layers: l.name = l.name + postfix"
   ]
  },
  {
   "cell_type": "code",
   "execution_count": 13,
   "metadata": {},
   "outputs": [],
   "source": [
    "# try pretrained weights and default config to get a baseline\n",
    "shape = (224, 224, 3)\n",
    "alpha = 1\n",
    "depth_multiplier = 1\n",
    "\n",
    "model_in = MobileNetV2(input_shape=shape,\n",
    "#                     alpha=alpha,\n",
    "#                     depth_multiplier=depth_multiplier,\n",
    "                    include_top=False,\n",
    "                    weights='imagenet',\n",
    "                    pooling=None)\n",
    "\n",
    "rename_layers(model_in, 'gateway')"
   ]
  },
  {
   "cell_type": "code",
   "execution_count": 14,
   "metadata": {},
   "outputs": [],
   "source": [
    "ycam_alpha = 1\n",
    "ycam_dm = 1\n",
    "xcam_alpha = 1\n",
    "xcam_dm = 1\n",
    "\n",
    "nshape = (224, 280, 1)\n",
    "x = Reshape(nshape)(model_in.output)\n",
    "\n",
    "# prediction of x gaze position\n",
    "xcam_net = MobileNetV2(input_tensor=x,\n",
    "                     alpha=xcam_alpha,\n",
    "                     depth_multiplier=xcam_dm,\n",
    "                     include_top=False,\n",
    "                     weights=None)\n",
    "y_xcam = Dense(1, activation=None)(xcam_net.output)\n",
    "\n",
    "# prediction of y gaze position\n",
    "ycam_net = MobileNetV2(input_tensor=x,\n",
    "                     alpha=ycam_alpha,\n",
    "                     depth_multiplier=ycam_dm,\n",
    "                     include_top=False,\n",
    "                     weights=None)\n",
    "y_ycam = Dense(1, activation=None)(ycam_net.output)\n",
    "\n",
    "# fix to keras multiple layers with same name bug\n",
    "rename_layers(xcam_net, '-xgaze')\n",
    "rename_layers(ycam_net, '-ygaze')\n",
    "\n",
    "model = Model(inputs=model_in.inputs, outputs=[y_xcam, y_ycam])"
   ]
  },
  {
   "cell_type": "code",
   "execution_count": 16,
   "metadata": {},
   "outputs": [],
   "source": [
    "model.compile(loss = mean_squared_error,\n",
    "              optimizer = RMSprop(),\n",
    "              metrics = ['accuracy', 'mae'])"
   ]
  },
  {
   "cell_type": "code",
   "execution_count": null,
   "metadata": {},
   "outputs": [],
   "source": []
  }
 ],
 "metadata": {
  "kernelspec": {
   "display_name": "Python 3",
   "language": "python",
   "name": "python3"
  },
  "language_info": {
   "codemirror_mode": {
    "name": "ipython",
    "version": 3
   },
   "file_extension": ".py",
   "mimetype": "text/x-python",
   "name": "python",
   "nbconvert_exporter": "python",
   "pygments_lexer": "ipython3",
   "version": "3.6.5"
  }
 },
 "nbformat": 4,
 "nbformat_minor": 2
}
