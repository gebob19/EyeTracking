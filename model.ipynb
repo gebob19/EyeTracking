{
 "cells": [
  {
   "cell_type": "code",
   "execution_count": 23,
   "metadata": {},
   "outputs": [],
   "source": [
    "import tensorflow as tf\n",
    "import keras\n",
    "from keras.applications.mobilenet_v2 import MobileNetV2\n",
    "from keras.models import Model\n",
    "from keras.losses import mean_squared_error\n",
    "from keras.optimizers import RMSprop\n",
    "from keras.layers import Dense, Flatten"
   ]
  },
  {
   "cell_type": "code",
   "execution_count": 24,
   "metadata": {},
   "outputs": [],
   "source": [
    "# try pretrained weights and default config to get a baseline\n",
    "shape = (224, 224, 3)\n",
    "alpha = 1\n",
    "depth_multiplier = 1\n",
    "\n",
    "model_in = MobileNetV2(input_shape=shape,\n",
    "#                     alpha=alpha,\n",
    "#                     depth_multiplier=depth_multiplier,\n",
    "                    include_top=False,\n",
    "                    weights='imagenet',\n",
    "                    pooling=None)"
   ]
  },
  {
   "cell_type": "code",
   "execution_count": 25,
   "metadata": {},
   "outputs": [],
   "source": [
    "x = Flatten()(model_in.output)\n",
    "\n",
    "# xcord path start from mobilenet output\n",
    "xcord = Dense(100, activation='relu')(x)\n",
    "xcord = Dense(80)(xcord)\n",
    "xcord = Dense(1)(xcord)\n",
    "\n",
    "# ycord path from mobilenet output\n",
    "ycord = Dense(100, activation='relu')(x)\n",
    "ycord = Dense(80)(ycord)\n",
    "ycord = Dense(1)(ycord)\n",
    "\n",
    "model = Model(inputs=model_in.inputs, outputs=[xcord, ycord])"
   ]
  },
  {
   "cell_type": "code",
   "execution_count": 20,
   "metadata": {},
   "outputs": [],
   "source": [
    "model.compile(loss = mean_squared_error,\n",
    "              optimizer = RMSprop(),\n",
    "              metrics = ['accuracy', 'mae'])"
   ]
  }
 ],
 "metadata": {
  "kernelspec": {
   "display_name": "Python 3",
   "language": "python",
   "name": "python3"
  },
  "language_info": {
   "codemirror_mode": {
    "name": "ipython",
    "version": 3
   },
   "file_extension": ".py",
   "mimetype": "text/x-python",
   "name": "python",
   "nbconvert_exporter": "python",
   "pygments_lexer": "ipython3",
   "version": "3.6.5"
  }
 },
 "nbformat": 4,
 "nbformat_minor": 2
}
