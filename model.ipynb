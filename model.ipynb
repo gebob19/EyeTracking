{
 "cells": [
  {
   "cell_type": "code",
   "execution_count": 15,
   "metadata": {},
   "outputs": [],
   "source": [
    "import tensorflow as tf\n",
    "from keras.applications.mobilenet_v2 import MobileNetV2\n",
    "\n",
    "from pathlib import Path\n",
    "import matplotlib.image as img\n",
    "import json"
   ]
  },
  {
   "cell_type": "code",
   "execution_count": 4,
   "metadata": {
    "scrolled": true
   },
   "outputs": [],
   "source": [
    "# from tensorflow.python.client import device_lib\n",
    "# device_lib.list_local_devices()"
   ]
  },
  {
   "cell_type": "code",
   "execution_count": 5,
   "metadata": {},
   "outputs": [],
   "source": [
    "# Import Data"
   ]
  },
  {
   "cell_type": "code",
   "execution_count": 21,
   "metadata": {},
   "outputs": [],
   "source": [
    "# Helper Functions from EDA\n",
    "def frames_dir(case): return p / case / 'frames'\n",
    "def get_json(p, fn): \n",
    "    with open(p / fn) as f: return json.load(f)\n",
    "def get_info(p): return get_json(p, 'info.json')\n",
    "def get_screen_info(i): return get_json(i, 'screen.json')\n",
    "def get_frame_info(i): return get_json(i, 'frames.json')\n",
    "def get_dot_info(i): return get_json(i, 'dotInfo.json')\n",
    "def get_face_info(i): return get_json(i, 'appleFace.json')\n",
    "def get_image(i, image_filename): return img.imread(p/i/'frames'/image_filename)\n",
    "def get_eye_info(i): return get_json(i, 'appleLeftEye.json'), get_json(i, 'appleRightEye.json')"
   ]
  },
  {
   "cell_type": "code",
   "execution_count": 11,
   "metadata": {},
   "outputs": [],
   "source": [
    "dset_path = Path('ml/gazecapture/')"
   ]
  },
  {
   "cell_type": "code",
   "execution_count": null,
   "metadata": {},
   "outputs": [],
   "source": []
  }
 ],
 "metadata": {
  "kernelspec": {
   "display_name": "Python 2",
   "language": "python",
   "name": "python2"
  },
  "language_info": {
   "codemirror_mode": {
    "name": "ipython",
    "version": 2
   },
   "file_extension": ".py",
   "mimetype": "text/x-python",
   "name": "python",
   "nbconvert_exporter": "python",
   "pygments_lexer": "ipython2",
   "version": "2.7.15"
  }
 },
 "nbformat": 4,
 "nbformat_minor": 2
}
