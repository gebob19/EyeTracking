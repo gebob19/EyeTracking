{
 "cells": [
  {
   "cell_type": "code",
   "execution_count": 1,
   "metadata": {},
   "outputs": [
    {
     "name": "stderr",
     "output_type": "stream",
     "text": [
      "Using TensorFlow backend.\n"
     ]
    }
   ],
   "source": [
    "import threading\n",
    "import optparse\n",
    "\n",
    "import cv2\n",
    "import pandas as pd\n",
    "import numpy as np\n",
    "from sklearn.model_selection import train_test_split\n",
    "from keras.losses import mean_squared_error, logcosh, mean_absolute_error\n",
    "from keras.optimizers import RMSprop, Adam\n",
    "from keras.callbacks import ReduceLROnPlateau, ModelCheckpoint, EarlyStopping, TensorBoard\n",
    "\n",
    "from model import mobnet\n",
    "\n",
    "class ThreadSafeIterator:\n",
    "    def __init__(self, it):\n",
    "        self.it = it\n",
    "        self.lock = threading.Lock()\n",
    "\n",
    "    def __iter__(self):\n",
    "        return self\n",
    "\n",
    "    def __next__(self):\n",
    "        with self.lock:\n",
    "            return self.it.__next__()\n",
    "\n",
    "def threadsafe_generator(f):\n",
    "    \"\"\"\n",
    "    A decorator that takes a generator function and makes it thread-safe.\n",
    "    \"\"\"\n",
    "    def g(*args, **kwargs):\n",
    "        return ThreadSafeIterator(f(*args, **kwargs))\n",
    "\n",
    "    return g\n",
    "\n",
    "@threadsafe_generator\n",
    "def train_generator(df, shape):\n",
    "    while True:\n",
    "        shuffle_indices = np.arange(len(df))\n",
    "        shuffle_indices = np.random.permutation(shuffle_indices)\n",
    "        \n",
    "        for start in range(0, len(df), BATCH_SIZE):\n",
    "            end = min(start + BATCH_SIZE, len(df))\n",
    "            df_batch = df.iloc[shuffle_indices[start:end]]\n",
    "            \n",
    "            x_batch = []\n",
    "            y_batch = []\n",
    "            \n",
    "            xcam = df_batch['XCam'].values\n",
    "            ycam = df_batch['YCam'].values\n",
    "            \n",
    "            for index, _fn in enumerate(df_batch['file_names']):\n",
    "                img = cv2.imread('{}/{}'.format(dset_path, _fn))\n",
    "                img = cv2.resize(img, (shape[1], shape[0]), interpolation=cv2.INTER_AREA)\n",
    "\n",
    "#               # === You can add data augmentations here. === #\n",
    "#                 if np.random.random() < 0.5:\n",
    "#                     img, mask = img[:, ::-1, :], mask[..., ::-1, :]  # random horizontal flip\n",
    "                y_batch.append([xcam[index], ycam[index]])\n",
    "                x_batch.append(img)\n",
    "            \n",
    "            yield np.asarray(x_batch), np.asarray(y_batch)"
   ]
  },
  {
   "cell_type": "code",
   "execution_count": 2,
   "metadata": {},
   "outputs": [
    {
     "name": "stdout",
     "output_type": "stream",
     "text": [
      "5060/5060 [==============================] - 818s 162ms/step\n"
     ]
    }
   ],
   "source": [
    "dset_path = '../gazecapture'\n",
    "\n",
    "shape = (667, 375, 3)\n",
    "lr = 1e-3\n",
    "optim = RMSprop(lr)\n",
    "loss = logcosh\n",
    "BATCH_SIZE = 16\n",
    "\n",
    "test = pd.read_csv('portrait-test-df.csv')\n",
    "model = mobnet(shape, None)\n",
    "model.compile(loss = loss,\n",
    "            optimizer = optim,\n",
    "            metrics = ['mae', 'mse'])\n",
    "\n",
    "\n",
    "model.load_weights('logcosh-0.001-RMSprop-weights.hdf5')\n",
    "\n",
    "metrics = model.evaluate_generator(generator=train_generator(test, shape),\n",
    "                         steps=np.ceil(float(len(test)) / float(BATCH_SIZE)),\n",
    "                         verbose=1)"
   ]
  },
  {
   "cell_type": "code",
   "execution_count": 3,
   "metadata": {},
   "outputs": [
    {
     "data": {
      "text/plain": [
       "(['loss', 'mean_absolute_error', 'mean_squared_error'],\n",
       " [0.8953140369502124, 1.3845042379869739, 3.937567944565428])"
      ]
     },
     "execution_count": 3,
     "metadata": {},
     "output_type": "execute_result"
    }
   ],
   "source": [
    "model.metrics_names, metrics"
   ]
  },
  {
   "cell_type": "code",
   "execution_count": null,
   "metadata": {},
   "outputs": [],
   "source": []
  }
 ],
 "metadata": {
  "kernelspec": {
   "display_name": "Python 3",
   "language": "python",
   "name": "python3"
  },
  "language_info": {
   "codemirror_mode": {
    "name": "ipython",
    "version": 3
   },
   "file_extension": ".py",
   "mimetype": "text/x-python",
   "name": "python",
   "nbconvert_exporter": "python",
   "pygments_lexer": "ipython3",
   "version": "3.6.5"
  }
 },
 "nbformat": 4,
 "nbformat_minor": 2
}
